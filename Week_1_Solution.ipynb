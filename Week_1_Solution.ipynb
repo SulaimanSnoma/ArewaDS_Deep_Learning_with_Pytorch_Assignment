{
 "cells": [
  {
   "cell_type": "code",
   "execution_count": 2,
   "metadata": {
    "scrolled": true
   },
   "outputs": [
    {
     "data": {
      "text/plain": [
       "'1.5.1+cpu'"
      ]
     },
     "execution_count": 2,
     "metadata": {},
     "output_type": "execute_result"
    }
   ],
   "source": [
    "import torch\n",
    "torch.__version__"
   ]
  },
  {
   "cell_type": "code",
   "execution_count": 3,
   "metadata": {},
   "outputs": [
    {
     "data": {
      "text/plain": [
       "tensor([[2.6634e-01, 9.2855e-01, 4.6345e-01, 2.9884e-01, 5.2571e-01, 2.6441e-01,\n",
       "         3.9388e-01],\n",
       "        [3.7871e-01, 3.2018e-01, 5.3071e-01, 9.7007e-01, 9.0999e-01, 8.6238e-01,\n",
       "         4.5805e-01],\n",
       "        [7.5985e-01, 1.9706e-01, 9.1937e-02, 9.7171e-01, 1.4941e-01, 4.8363e-01,\n",
       "         6.0195e-01],\n",
       "        [8.0242e-01, 9.8916e-01, 7.3628e-02, 7.9943e-01, 4.4363e-01, 4.3333e-04,\n",
       "         4.7086e-01],\n",
       "        [4.4456e-01, 8.7261e-01, 5.9162e-01, 7.9776e-02, 8.2284e-01, 5.1562e-02,\n",
       "         2.5846e-01],\n",
       "        [1.3903e-01, 8.3463e-01, 2.9652e-01, 8.4281e-01, 4.4884e-01, 1.4970e-01,\n",
       "         6.9508e-01],\n",
       "        [3.0127e-01, 7.8122e-01, 6.3237e-01, 6.7894e-01, 4.0703e-01, 2.6502e-01,\n",
       "         9.9769e-01]])"
      ]
     },
     "execution_count": 3,
     "metadata": {},
     "output_type": "execute_result"
    }
   ],
   "source": [
    "# Solution to Exercise 2 Tensor Multiplication\n",
    "snoma = torch.rand(7,7)\n",
    "snoma"
   ]
  },
  {
   "cell_type": "code",
   "execution_count": 11,
   "metadata": {},
   "outputs": [
    {
     "data": {
      "text/plain": [
       "torch.Size([2])"
      ]
     },
     "execution_count": 11,
     "metadata": {},
     "output_type": "execute_result"
    }
   ],
   "source": [
    "import torch\n",
    "tensor = torch.tensor([7, 7])\n",
    "tensor.shape"
   ]
  },
  {
   "cell_type": "code",
   "execution_count": 13,
   "metadata": {},
   "outputs": [
    {
     "data": {
      "text/plain": [
       "tensor([49,  1])"
      ]
     },
     "execution_count": 13,
     "metadata": {},
     "output_type": "execute_result"
    }
   ],
   "source": [
    "# Solution to Exercise 3 Tensor Multiplication\n",
    "import torch \n",
    "tensor = torch.tensor([7, 7])\n",
    "tensor = torch.tensor([7, 1])\n",
    "tensor * tensor"
   ]
  },
  {
   "cell_type": "code",
   "execution_count": 15,
   "metadata": {},
   "outputs": [
    {
     "data": {
      "text/plain": [
       "tensor([[0.2392, 0.3703, 0.0426, 0.0636, 0.1482, 0.3056, 0.2362],\n",
       "        [0.7349, 0.3735, 0.5184, 0.2860, 0.3293, 0.0183, 0.1384],\n",
       "        [0.2930, 0.5170, 0.6956, 0.7977, 0.1606, 0.2814, 0.6796],\n",
       "        [0.6392, 0.2774, 0.6105, 0.2929, 0.3862, 0.6654, 0.0253],\n",
       "        [0.1051, 0.2119, 0.1732, 0.5290, 0.0998, 0.1531, 0.0855],\n",
       "        [0.0265, 0.1738, 0.7766, 0.6040, 0.6200, 0.4396, 0.2035],\n",
       "        [0.1202, 0.0068, 0.0285, 0.0498, 0.1677, 0.1631, 0.0572]])"
      ]
     },
     "execution_count": 15,
     "metadata": {},
     "output_type": "execute_result"
    }
   ],
   "source": [
    "import torch \n",
    "torch.manual_seed(0)\n",
    "snoma1 = torch.rand([7, 7])\n",
    "snoma2 = torch.rand([7, 1])\n",
    "snoma1 * snoma2"
   ]
  },
  {
   "cell_type": "code",
   "execution_count": null,
   "metadata": {},
   "outputs": [],
   "source": []
  },
  {
   "cell_type": "code",
   "execution_count": null,
   "metadata": {},
   "outputs": [],
   "source": []
  }
 ],
 "metadata": {
  "kernelspec": {
   "display_name": "Python 3",
   "language": "python",
   "name": "python3"
  },
  "language_info": {
   "codemirror_mode": {
    "name": "ipython",
    "version": 3
   },
   "file_extension": ".py",
   "mimetype": "text/x-python",
   "name": "python",
   "nbconvert_exporter": "python",
   "pygments_lexer": "ipython3",
   "version": "3.7.6"
  }
 },
 "nbformat": 4,
 "nbformat_minor": 4
}
